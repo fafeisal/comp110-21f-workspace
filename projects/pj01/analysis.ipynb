{
 "cells": [
  {
   "cell_type": "markdown",
   "metadata": {},
   "source": [
    "# My Overarching Hypothesis: Most students in Comp110 plan for some future in computer science (whether that's a BS, BA, or minor)"
   ]
  },
  {
   "cell_type": "markdown",
   "metadata": {},
   "source": [
    "### Before testing my hypothesis, I need to set up autoreload to ensure modules reload on their own before the execution of my cells."
   ]
  },
  {
   "cell_type": "code",
   "execution_count": 1,
   "metadata": {},
   "outputs": [],
   "source": [
    "%reload_ext autoreload\n",
    "%autoreload 2"
   ]
  },
  {
   "cell_type": "markdown",
   "metadata": {},
   "source": [
    "### To test my hypothesis, I first need to read the csv file and convert the data to a column-oriented table."
   ]
  },
  {
   "cell_type": "code",
   "execution_count": 2,
   "metadata": {},
   "outputs": [
    {
     "name": "stdout",
     "output_type": "stream",
     "text": [
      "For verification, this is the first value of the 'comp_major' key: No\n"
     ]
    }
   ],
   "source": [
    "from data_utils import read_csv_rows, columnar\n",
    "\n",
    "row_table: list[dict[str, str]] = read_csv_rows('../../data/survey.csv')\n",
    "column_table: dict[str, list[str]] = columnar(row_table)\n",
    "\n",
    "print(f\"For verification, this is the first value of the 'comp_major' key: {column_table['comp_major'][0]}\")"
   ]
  },
  {
   "cell_type": "markdown",
   "metadata": {},
   "source": [
    "### Subsequently, I will use the column-oriented table to isolate just the column of `comp_major` data."
   ]
  },
  {
   "cell_type": "code",
   "execution_count": 8,
   "metadata": {},
   "outputs": [
    {
     "name": "stdout",
     "output_type": "stream",
     "text": [
      "For verification, these are the first 3 values of the isolated column: {'comp_major': ['No', 'No', 'No']}\n"
     ]
    }
   ],
   "source": [
    "from data_utils import select, head\n",
    "\n",
    "column: dict[str, list[str]] = select(column_table, [\"comp_major\"])\n",
    "\n",
    "print(f\"For verification, these are the first 3 values of the isolated column: {head(column, 3)}\")"
   ]
  },
  {
   "cell_type": "markdown",
   "metadata": {},
   "source": [
    "### Next, I will count up the occurances of the values."
   ]
  },
  {
   "cell_type": "code",
   "execution_count": 4,
   "metadata": {},
   "outputs": [
    {
     "name": "stdout",
     "output_type": "stream",
     "text": [
      "Planned Comp BS students: 88\n",
      "Planned Comp BA students: 48\n",
      "Planned Comp Minor students: 33\n",
      "No planned Comp students: 404\n"
     ]
    }
   ],
   "source": [
    "from data_utils import count\n",
    "\n",
    "totals: list[int] = count(column['comp_major'])\n",
    "\n",
    "print(f\"Planned Comp BS students: {totals['Yes - BS']}\")\n",
    "print(f\"Planned Comp BA students: {totals['Yes - BA']}\")\n",
    "print(f\"Planned Comp Minor students: {totals['Yes - Minor']}\")\n",
    "print(f\"No planned Comp students: {totals['No']}\")"
   ]
  },
  {
   "cell_type": "markdown",
   "metadata": {},
   "source": [
    "### Here is a bar chart data visualization:"
   ]
  },
  {
   "cell_type": "code",
   "execution_count": 5,
   "metadata": {},
   "outputs": [
    {
     "data": {
      "text/plain": [
       "[Text(0.5, 1.0, 'Frequency of Responses to comp_major'),\n",
       " Text(0.5, 0, 'Response'),\n",
       " Text(0, 0.5, 'Frequency')]"
      ]
     },
     "execution_count": 5,
     "metadata": {},
     "output_type": "execute_result"
    },
    {
     "data": {
      "image/png": "[encoded data removed]",
      "text/plain": [
       "<Figure size 432x288 with 1 Axes>"
      ]
     },
     "metadata": {
      "needs_background": "light"
     },
     "output_type": "display_data"
    }
   ],
   "source": [
    "import seaborn\n",
    "seaborn.barplot(x=[\"BS\", \"BA\", \"Minor\", \"None\"], y=[totals['Yes - BS'], totals['Yes - BA'], totals['Yes - Minor'], totals['No']]).set(title='Frequency of Responses to comp_major', xlabel='Response', ylabel='Frequency')"
   ]
  },
  {
   "cell_type": "markdown",
   "metadata": {},
   "source": [
    "### This gives me the totals for every answer. However, I need to look at just 'yes' overall rather than specifics in the future of comp sci."
   ]
  },
  {
   "cell_type": "markdown",
   "metadata": {},
   "source": [
    "### So, I must filter the data to only count up the 'yes' answers (as in a future in comp sci) and the 'no' answers (as in no future in comp sci)."
   ]
  },
  {
   "cell_type": "code",
   "execution_count": 6,
   "metadata": {},
   "outputs": [
    {
     "name": "stdout",
     "output_type": "stream",
     "text": [
      "Planned Comp students: 169\n",
      "No planned Comp students: 404\n"
     ]
    }
   ],
   "source": [
    "from data_utils import binary\n",
    "\n",
    "yes_no: list[int] = binary(column['comp_major'])\n",
    "\n",
    "print(f\"Planned Comp students: {yes_no['Yes']}\")\n",
    "print(f\"No planned Comp students: {yes_no['No']}\")"
   ]
  },
  {
   "cell_type": "markdown",
   "metadata": {},
   "source": [
    "### Here's another bar chart to represent the final data analysis:"
   ]
  },
  {
   "cell_type": "code",
   "execution_count": 7,
   "metadata": {},
   "outputs": [
    {
     "data": {
      "text/plain": [
       "[Text(0.5, 1.0, 'Frequency of Responses to a Future in Computer Science'),\n",
       " Text(0.5, 0, 'Binary Response'),\n",
       " Text(0, 0.5, 'Frequency')]"
      ]
     },
     "execution_count": 7,
     "metadata": {},
     "output_type": "execute_result"
    },
    {
     "data": {
      "image/png": "[encoded data removed]",
      "text/plain": [
       "<Figure size 432x288 with 1 Axes>"
      ]
     },
     "metadata": {
      "needs_background": "light"
     },
     "output_type": "display_data"
    }
   ],
   "source": [
    "seaborn.barplot(x=[\"Yes\", \"No\"], y=[yes_no['Yes'], yes_no['No']]).set(title='Frequency of Responses to a Future in Computer Science', xlabel='Binary Response', ylabel='Frequency')"
   ]
  },
  {
   "cell_type": "markdown",
   "metadata": {},
   "source": [
    "# Conclusion\n",
    "### My hypothesis was incorrect. There are more than twice as many students in Comp110 who do not plan to continue their studies in computer science. I find this quite surprising considering 110 is a prereq for computer science.\n",
    "### I now wonder what is the most frequent major Comp110 students have chosen. If not computer science, then what?"
   ]
  }
 ],
 "metadata": {
  "interpreter": {
   "hash": "47ade558d0f9d3114a528bf0f7f8dc83bc7463c60b4e0dea31d50aa9a99c3227"
  },
  "kernelspec": {
   "display_name": "Python 3.9.6 64-bit",
   "name": "python3"
  },
  "language_info": {
   "codemirror_mode": {
    "name": "ipython",
    "version": 3
   },
   "file_extension": ".py",
   "mimetype": "text/x-python",
   "name": "python",
   "nbconvert_exporter": "python",
   "pygments_lexer": "ipython3",
   "version": "3.9.6"
  },
  "orig_nbformat": 4
 },
 "nbformat": 4,
 "nbformat_minor": 2
}
